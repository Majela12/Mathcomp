{
  "nbformat": 4,
  "nbformat_minor": 0,
  "metadata": {
    "colab": {
      "provenance": [],
      "toc_visible": true
    },
    "kernelspec": {
      "name": "python3",
      "display_name": "Python 3"
    },
    "language_info": {
      "name": "python"
    }
  },
  "cells": [
    {
      "cell_type": "markdown",
      "source": [
        "#Teoria de conjuntos"
      ],
      "metadata": {
        "id": "0hX1ajU6dpiI"
      }
    },
    {
      "cell_type": "markdown",
      "source": [],
      "metadata": {
        "id": "21gCjjuheXAI"
      }
    },
    {
      "cell_type": "code",
      "source": [],
      "metadata": {
        "id": "O2E0JYKqeFcn"
      },
      "execution_count": null,
      "outputs": []
    }
  ]
}