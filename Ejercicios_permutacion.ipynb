{
  "nbformat": 4,
  "nbformat_minor": 0,
  "metadata": {
    "colab": {
      "provenance": [],
      "toc_visible": true
    },
    "kernelspec": {
      "name": "python3",
      "display_name": "Python 3"
    },
    "language_info": {
      "name": "python"
    }
  },
  "cells": [
    {
      "cell_type": "markdown",
      "source": [
        "Ejercicios Permutacion\n"
      ],
      "metadata": {
        "id": "uyZDAdFxnah_"
      }
    },
    {
      "cell_type": "markdown",
      "source": [
        "#Ejercicio 1\n"
      ],
      "metadata": {
        "id": "YNEKSh4Br08J"
      }
    },
    {
      "cell_type": "code",
      "source": [
        "import math\n",
        "from itertools import combinations, permutations\n",
        "import itertools\n",
        "from math import factorial"
      ],
      "metadata": {
        "id": "WG-BCjeooWIS"
      },
      "execution_count": null,
      "outputs": []
    },
    {
      "cell_type": "code",
      "source": [
        "count = 0\n",
        "for i in range(1, 101):\n",
        "    if i % 5 == 0 or i % 8 == 0:\n",
        "        count += 1\n",
        "\n",
        "print(count)"
      ],
      "metadata": {
        "colab": {
          "base_uri": "https://localhost:8080/"
        },
        "id": "_-uaXA8bobZR",
        "outputId": "fdc14fdb-055c-458d-e2d8-e02481d27888"
      },
      "execution_count": null,
      "outputs": [
        {
          "output_type": "stream",
          "name": "stdout",
          "text": [
            "30\n"
          ]
        }
      ]
    },
    {
      "cell_type": "markdown",
      "source": [
        "#Ejercicio 2\n"
      ],
      "metadata": {
        "id": "79URzzBXsCon"
      }
    },
    {
      "cell_type": "code",
      "source": [
        "personas = ['A', 'B', 'C', 'D', 'E']\n",
        "combinations = list(itertools.combinations(personas, 3))\n",
        "\n",
        "print(len(combinations))"
      ],
      "metadata": {
        "colab": {
          "base_uri": "https://localhost:8080/"
        },
        "id": "J_1ySqAts2Fh",
        "outputId": "eb855b13-0f92-4312-970b-ccb353625110"
      },
      "execution_count": null,
      "outputs": [
        {
          "output_type": "stream",
          "name": "stdout",
          "text": [
            "10\n"
          ]
        }
      ]
    },
    {
      "cell_type": "markdown",
      "source": [
        "# Ejercicio 3\n",
        "\n",
        "\n",
        "```\n",
        "# Tiene formato de código\n",
        "```\n",
        "\n"
      ],
      "metadata": {
        "id": "LRHvC1hWtHtC"
      }
    },
    {
      "cell_type": "code",
      "source": [
        "elementos = ['X', 'Y', 'Z']\n",
        "permutations = list(itertools.permutations(elementos, 3))\n",
        "\n",
        "print(len(permutations))"
      ],
      "metadata": {
        "colab": {
          "base_uri": "https://localhost:8080/"
        },
        "id": "cyTosmxIuErT",
        "outputId": "3ebbc422-103d-4e45-f4d2-2c7d1adf8a93"
      },
      "execution_count": null,
      "outputs": [
        {
          "output_type": "stream",
          "name": "stdout",
          "text": [
            "6\n"
          ]
        }
      ]
    },
    {
      "cell_type": "markdown",
      "source": [
        "# Ejercicio 4\n"
      ],
      "metadata": {
        "id": "xwNM-A4Itpnk"
      }
    },
    {
      "cell_type": "code",
      "source": [
        "cartas = list(range(1, 53))  # Representamos las cartas como números del 1 al 52\n",
        "combinations = list(itertools.combinations(cartas, 4))\n",
        "\n",
        "print(len(combinations))"
      ],
      "metadata": {
        "colab": {
          "base_uri": "https://localhost:8080/"
        },
        "id": "c872Dhq7v7OV",
        "outputId": "d43772a0-801c-4500-bcdf-8f8b01dc786d"
      },
      "execution_count": null,
      "outputs": [
        {
          "output_type": "stream",
          "name": "stdout",
          "text": [
            "270725\n"
          ]
        }
      ]
    },
    {
      "cell_type": "markdown",
      "source": [
        "# Ejercicio 5\n"
      ],
      "metadata": {
        "id": "ErZhR-nGu0l8"
      }
    },
    {
      "cell_type": "code",
      "source": [
        "n = 8\n",
        "r = 4\n",
        "w = 3\n",
        "b = 1\n",
        "permutations = math.factorial(n) // (math.factorial(r) * math.factorial(w) * math.factorial(b))\n",
        "\n",
        "print(permutations)"
      ],
      "metadata": {
        "id": "TZ8VSRcwwHTW"
      },
      "execution_count": null,
      "outputs": []
    },
    {
      "cell_type": "markdown",
      "source": [
        "[texto del enlace](https://)# Nueva sección"
      ],
      "metadata": {
        "id": "ulJlFKchtmYU"
      }
    },
    {
      "cell_type": "markdown",
      "source": [
        "# Ejercicio 6\n"
      ],
      "metadata": {
        "id": "2nOsMlVKwRSV"
      }
    },
    {
      "cell_type": "code",
      "source": [
        "math_books = 4\n",
        "physics_books = 6\n",
        "chemistry_books = 2\n",
        "blocks = 3\n",
        "\n",
        "perm_within_blocks = math.factorial(math_books) * math.factorial(physics_books) * math.factorial(chemistry_books)\n",
        "\n",
        "\n",
        "perm_blocks = math.factorial(blocks)\n",
        "\n",
        "total_permutations = perm_within_blocks * perm_blocks\n",
        "\n",
        "print(total_permutations)"
      ],
      "metadata": {
        "colab": {
          "base_uri": "https://localhost:8080/"
        },
        "id": "owtlcCVzxddr",
        "outputId": "602094ba-eddd-46c4-ed99-ca1925e765d3"
      },
      "execution_count": null,
      "outputs": [
        {
          "output_type": "stream",
          "name": "stdout",
          "text": [
            "207360\n"
          ]
        }
      ]
    },
    {
      "cell_type": "code",
      "source": [
        "total_permutations = math.factorial(math_books) * math.factorial(physics_books + chemistry_books + 1)\n",
        "\n",
        "print(total_permutations)"
      ],
      "metadata": {
        "colab": {
          "base_uri": "https://localhost:8080/"
        },
        "id": "kCHjWo6byJA7",
        "outputId": "8e327584-68ed-43cc-df5f-56a9fcf5d785"
      },
      "execution_count": null,
      "outputs": [
        {
          "output_type": "stream",
          "name": "stdout",
          "text": [
            "8709120\n"
          ]
        }
      ]
    },
    {
      "cell_type": "markdown",
      "source": [
        "# Ejercicio 7\n"
      ],
      "metadata": {
        "id": "1UlkGS0DwX9p"
      }
    },
    {
      "cell_type": "code",
      "source": [
        "empleados = list(range(1, 16))\n",
        "total_forms = sum(len(list(itertools.combinations(empleados, r))) for r in range(3, 16))\n",
        "\n",
        "print(total_forms)"
      ],
      "metadata": {
        "id": "ne8sGVN4x7g-"
      },
      "execution_count": null,
      "outputs": []
    },
    {
      "cell_type": "markdown",
      "source": [
        "# Ejercicio 8\n"
      ],
      "metadata": {
        "id": "Xb7d9lSzwc7O"
      }
    },
    {
      "cell_type": "code",
      "source": [
        "trabajadores = list(range(1, 19))\n",
        "combinations = list(itertools.combinations(trabajadores, 12))\n",
        "\n",
        "print(len(combinations))"
      ],
      "metadata": {
        "id": "UpBJkxRbx8GA"
      },
      "execution_count": null,
      "outputs": []
    },
    {
      "cell_type": "markdown",
      "source": [
        "# Ejercicio 9\n"
      ],
      "metadata": {
        "id": "UgNQFuFuwjjl"
      }
    },
    {
      "cell_type": "code",
      "source": [
        "personas = list(range(1, 10))\n",
        "combinations = list(itertools.combinations(personas, 4))\n",
        "\n",
        "print(len(combinations))"
      ],
      "metadata": {
        "id": "ZNJPsDVvx8if"
      },
      "execution_count": null,
      "outputs": []
    },
    {
      "cell_type": "markdown",
      "source": [
        "# Ejercicio 10\n"
      ],
      "metadata": {
        "id": "t8vtqHpYwm9n"
      }
    },
    {
      "cell_type": "code",
      "source": [
        "hombres = list(range(1, 8))\n",
        "mujeres = list(range(1, 6))\n",
        "\n",
        "combinations_hombres = list(itertools.combinations(hombres, 3))\n",
        "combinations_mujeres = list(itertools.combinations(mujeres, 2))\n",
        "\n",
        "total_combinations = len(combinations_hombres) * len(combinations_mujeres)\n",
        "\n",
        "print(total_combinations)"
      ],
      "metadata": {
        "colab": {
          "base_uri": "https://localhost:8080/"
        },
        "id": "-_6U7Oyax8_5",
        "outputId": "d87ceadd-f44a-4f63-85a7-85bf7bea3544"
      },
      "execution_count": null,
      "outputs": [
        {
          "output_type": "stream",
          "name": "stdout",
          "text": [
            "350\n"
          ]
        }
      ]
    },
    {
      "cell_type": "markdown",
      "source": [
        "# Ejercicio 11\n"
      ],
      "metadata": {
        "id": "_pAPef_Uwu-t"
      }
    },
    {
      "cell_type": "code",
      "source": [
        "technoarquitectos = list(range(1, 6))\n",
        "arquitectos_magicos = list(range(1, 8))\n",
        "\n",
        "combinations_techno = list(itertools.combinations(technoarquitectos, 2))\n",
        "combinations_magicos = list(itertools.combinations(arquitectos_magicos, 3))\n",
        "\n",
        "total_combinations = len(combinations_techno) * len(combinations_magicos)\n",
        "\n",
        "print(total_combinations)"
      ],
      "metadata": {
        "id": "RVrLjF6-x_B1"
      },
      "execution_count": null,
      "outputs": []
    },
    {
      "cell_type": "code",
      "source": [
        "arquitecto_fijo = 1\n",
        "arquitectos_restantes = [x for x in arquitectos_magicos if x != arquitecto_fijo]\n",
        "\n",
        "combinations_magicos_con_fijo = list(itertools.combinations(arquitectos_restantes, 2))\n",
        "\n",
        "total_combinations_con_fijo = len(combinations_techno) * len(combinations_magicos_con_fijo)\n",
        "\n",
        "print(total_combinations_con_fijo)\n"
      ],
      "metadata": {
        "id": "7fM4X_7aw0zw",
        "colab": {
          "base_uri": "https://localhost:8080/"
        },
        "outputId": "cbaf60ba-0ffb-4d62-c19c-d88c3836b7e6"
      },
      "execution_count": null,
      "outputs": [
        {
          "output_type": "stream",
          "name": "stdout",
          "text": [
            "150\n"
          ]
        }
      ]
    },
    {
      "cell_type": "code",
      "source": [
        "technoarquitectos_excluidos = [1, 2]\n",
        "technoarquitectos_validos = [x for x in technoarquitectos if x not in technoarquitectos_excluidos]\n",
        "\n",
        "combinations_techno_sin_excluidos = list(itertools.combinations(technoarquitectos_validos, 2))\n",
        "\n",
        "total_combinations_sin_excluidos = len(combinations_techno_sin_excluidos) * len(combinations_magicos)\n",
        "\n",
        "print(total_combinations_sin_excluidos)"
      ],
      "metadata": {
        "colab": {
          "base_uri": "https://localhost:8080/"
        },
        "id": "1Eu3T7HJyxED",
        "outputId": "b3e41142-7cee-47a2-fe07-d7adb30a2419"
      },
      "execution_count": null,
      "outputs": [
        {
          "output_type": "stream",
          "name": "stdout",
          "text": [
            "105\n"
          ]
        }
      ]
    },
    {
      "cell_type": "markdown",
      "source": [
        "# Ejercicio 12\n"
      ],
      "metadata": {
        "id": "8UtOWPlDw7r2"
      }
    },
    {
      "cell_type": "code",
      "source": [
        "consonantes = ['C' + str(i) for i in range(1, 8)]\n",
        "vocales = ['V' + str(i) for i in range(1, 6)]\n",
        "\n",
        "combinations_consonantes = list(itertools.combinations(consonantes, 4))\n",
        "combinations_vocales = list(itertools.combinations(vocales, 3))\n",
        "\n",
        "total_combinations = len(combinations_consonantes) * len(combinations_vocales)\n",
        "\n",
        "print(total_combinations)"
      ],
      "metadata": {
        "colab": {
          "base_uri": "https://localhost:8080/"
        },
        "id": "Roe2k9Q6x_b-",
        "outputId": "ae95ad10-f934-4cc9-d2a7-9b94af2d8945"
      },
      "execution_count": null,
      "outputs": [
        {
          "output_type": "stream",
          "name": "stdout",
          "text": [
            "350\n"
          ]
        }
      ]
    },
    {
      "cell_type": "markdown",
      "source": [
        "# Ejercicio 13\n"
      ],
      "metadata": {
        "id": "A-y2hwkYxBn6"
      }
    },
    {
      "cell_type": "markdown",
      "source": [],
      "metadata": {
        "id": "78XP6vfN1VF4"
      }
    },
    {
      "cell_type": "code",
      "source": [
        "alumnos = list(range(1, 41))  # 40 alumnos\n",
        "permutations = list(itertools.permutations(alumnos, 4))\n",
        "\n",
        "print(len(permutations))\n",
        "combinations = list(itertools.combinations(alumnos, 4))\n",
        "\n",
        "print(len(combinations))"
      ],
      "metadata": {
        "colab": {
          "base_uri": "https://localhost:8080/"
        },
        "id": "usNQlOveyAG2",
        "outputId": "47cd7536-0ac6-405f-81a7-a08ef79778d8"
      },
      "execution_count": null,
      "outputs": [
        {
          "output_type": "stream",
          "name": "stdout",
          "text": [
            "2193360\n",
            "91390\n"
          ]
        }
      ]
    },
    {
      "cell_type": "markdown",
      "source": [],
      "metadata": {
        "id": "0i0olH_ezRL-"
      }
    },
    {
      "cell_type": "markdown",
      "source": [
        "# Nueva sección"
      ],
      "metadata": {
        "id": "xUPVX1yu1d8V"
      }
    },
    {
      "cell_type": "code",
      "source": [],
      "metadata": {
        "id": "yLKEAO3q1hws"
      },
      "execution_count": null,
      "outputs": []
    }
  ]
}