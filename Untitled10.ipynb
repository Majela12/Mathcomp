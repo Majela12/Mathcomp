{
  "nbformat": 4,
  "nbformat_minor": 0,
  "metadata": {
    "colab": {
      "provenance": []
    },
    "kernelspec": {
      "name": "python3",
      "display_name": "Python 3"
    },
    "language_info": {
      "name": "python"
    }
  },
  "cells": [
    {
      "cell_type": "code",
      "execution_count": 4,
      "metadata": {
        "colab": {
          "base_uri": "https://localhost:8080/",
          "height": 321
        },
        "id": "g-vmqtNH7uRB",
        "outputId": "bbfd1d19-73c1-4460-8ad5-790c313aad97"
      },
      "outputs": [
        {
          "output_type": "error",
          "ename": "KeyboardInterrupt",
          "evalue": "Interrupted by user",
          "traceback": [
            "\u001b[0;31m---------------------------------------------------------------------------\u001b[0m",
            "\u001b[0;31mKeyboardInterrupt\u001b[0m                         Traceback (most recent call last)",
            "\u001b[0;32m<ipython-input-4-d81d4e58aca4>\u001b[0m in \u001b[0;36m<cell line: 15>\u001b[0;34m()\u001b[0m\n\u001b[1;32m     13\u001b[0m     \u001b[0mprint\u001b[0m\u001b[0;34m(\u001b[0m\u001b[0;34mf\"El producto escalar es: {producto}\"\u001b[0m\u001b[0;34m)\u001b[0m\u001b[0;34m\u001b[0m\u001b[0;34m\u001b[0m\u001b[0m\n\u001b[1;32m     14\u001b[0m \u001b[0;34m\u001b[0m\u001b[0m\n\u001b[0;32m---> 15\u001b[0;31m \u001b[0mproducto_escalar\u001b[0m\u001b[0;34m(\u001b[0m\u001b[0;34m)\u001b[0m\u001b[0;34m\u001b[0m\u001b[0;34m\u001b[0m\u001b[0m\n\u001b[0m",
            "\u001b[0;32m<ipython-input-4-d81d4e58aca4>\u001b[0m in \u001b[0;36mproducto_escalar\u001b[0;34m()\u001b[0m\n\u001b[1;32m      1\u001b[0m \u001b[0;32mdef\u001b[0m \u001b[0mproducto_escalar\u001b[0m\u001b[0;34m(\u001b[0m\u001b[0;34m)\u001b[0m\u001b[0;34m:\u001b[0m\u001b[0;34m\u001b[0m\u001b[0;34m\u001b[0m\u001b[0m\n\u001b[0;32m----> 2\u001b[0;31m     \u001b[0mn\u001b[0m \u001b[0;34m=\u001b[0m \u001b[0mint\u001b[0m\u001b[0;34m(\u001b[0m\u001b[0minput\u001b[0m\u001b[0;34m(\u001b[0m\u001b[0;34m\"Ingrese la longitud de los vectores: \"\u001b[0m\u001b[0;34m)\u001b[0m\u001b[0;34m)\u001b[0m\u001b[0;34m\u001b[0m\u001b[0;34m\u001b[0m\u001b[0m\n\u001b[0m\u001b[1;32m      3\u001b[0m \u001b[0;34m\u001b[0m\u001b[0m\n\u001b[1;32m      4\u001b[0m     \u001b[0mprint\u001b[0m\u001b[0;34m(\u001b[0m\u001b[0;34m\"Ingrese los elementos del primer vector:\"\u001b[0m\u001b[0;34m)\u001b[0m\u001b[0;34m\u001b[0m\u001b[0;34m\u001b[0m\u001b[0m\n\u001b[1;32m      5\u001b[0m     \u001b[0mvector1\u001b[0m \u001b[0;34m=\u001b[0m \u001b[0;34m[\u001b[0m\u001b[0mfloat\u001b[0m\u001b[0;34m(\u001b[0m\u001b[0minput\u001b[0m\u001b[0;34m(\u001b[0m\u001b[0;34mf\"Elemento {i+1}: \"\u001b[0m\u001b[0;34m)\u001b[0m\u001b[0;34m)\u001b[0m \u001b[0;32mfor\u001b[0m \u001b[0mi\u001b[0m \u001b[0;32min\u001b[0m \u001b[0mrange\u001b[0m\u001b[0;34m(\u001b[0m\u001b[0mn\u001b[0m\u001b[0;34m)\u001b[0m\u001b[0;34m]\u001b[0m\u001b[0;34m\u001b[0m\u001b[0;34m\u001b[0m\u001b[0m\n",
            "\u001b[0;32m/usr/local/lib/python3.10/dist-packages/ipykernel/kernelbase.py\u001b[0m in \u001b[0;36mraw_input\u001b[0;34m(self, prompt)\u001b[0m\n\u001b[1;32m    849\u001b[0m                 \u001b[0;34m\"raw_input was called, but this frontend does not support input requests.\"\u001b[0m\u001b[0;34m\u001b[0m\u001b[0;34m\u001b[0m\u001b[0m\n\u001b[1;32m    850\u001b[0m             )\n\u001b[0;32m--> 851\u001b[0;31m         return self._input_request(str(prompt),\n\u001b[0m\u001b[1;32m    852\u001b[0m             \u001b[0mself\u001b[0m\u001b[0;34m.\u001b[0m\u001b[0m_parent_ident\u001b[0m\u001b[0;34m,\u001b[0m\u001b[0;34m\u001b[0m\u001b[0;34m\u001b[0m\u001b[0m\n\u001b[1;32m    853\u001b[0m             \u001b[0mself\u001b[0m\u001b[0;34m.\u001b[0m\u001b[0m_parent_header\u001b[0m\u001b[0;34m,\u001b[0m\u001b[0;34m\u001b[0m\u001b[0;34m\u001b[0m\u001b[0m\n",
            "\u001b[0;32m/usr/local/lib/python3.10/dist-packages/ipykernel/kernelbase.py\u001b[0m in \u001b[0;36m_input_request\u001b[0;34m(self, prompt, ident, parent, password)\u001b[0m\n\u001b[1;32m    893\u001b[0m             \u001b[0;32mexcept\u001b[0m \u001b[0mKeyboardInterrupt\u001b[0m\u001b[0;34m:\u001b[0m\u001b[0;34m\u001b[0m\u001b[0;34m\u001b[0m\u001b[0m\n\u001b[1;32m    894\u001b[0m                 \u001b[0;31m# re-raise KeyboardInterrupt, to truncate traceback\u001b[0m\u001b[0;34m\u001b[0m\u001b[0;34m\u001b[0m\u001b[0m\n\u001b[0;32m--> 895\u001b[0;31m                 \u001b[0;32mraise\u001b[0m \u001b[0mKeyboardInterrupt\u001b[0m\u001b[0;34m(\u001b[0m\u001b[0;34m\"Interrupted by user\"\u001b[0m\u001b[0;34m)\u001b[0m \u001b[0;32mfrom\u001b[0m \u001b[0;32mNone\u001b[0m\u001b[0;34m\u001b[0m\u001b[0;34m\u001b[0m\u001b[0m\n\u001b[0m\u001b[1;32m    896\u001b[0m             \u001b[0;32mexcept\u001b[0m \u001b[0mException\u001b[0m \u001b[0;32mas\u001b[0m \u001b[0me\u001b[0m\u001b[0;34m:\u001b[0m\u001b[0;34m\u001b[0m\u001b[0;34m\u001b[0m\u001b[0m\n\u001b[1;32m    897\u001b[0m                 \u001b[0mself\u001b[0m\u001b[0;34m.\u001b[0m\u001b[0mlog\u001b[0m\u001b[0;34m.\u001b[0m\u001b[0mwarning\u001b[0m\u001b[0;34m(\u001b[0m\u001b[0;34m\"Invalid Message:\"\u001b[0m\u001b[0;34m,\u001b[0m \u001b[0mexc_info\u001b[0m\u001b[0;34m=\u001b[0m\u001b[0;32mTrue\u001b[0m\u001b[0;34m)\u001b[0m\u001b[0;34m\u001b[0m\u001b[0;34m\u001b[0m\u001b[0m\n",
            "\u001b[0;31mKeyboardInterrupt\u001b[0m: Interrupted by user"
          ]
        }
      ],
      "source": [
        "\n",
        "def producto_escalar():\n",
        "    n = int(input(\"Ingrese la longitud de los vectores: \"))\n",
        "\n",
        "    print(\"Ingrese los elementos del primer vector:\")\n",
        "    vector1 = [float(input(f\"Elemento {i+1}: \")) for i in range(n)]\n",
        "\n",
        "    print(\"Ingrese los elementos del segundo vector:\")\n",
        "    vector2 = [float(input(f\"Elemento {i+1}: \")) for i in range(n)]\n",
        "\n",
        "    # el caulculo\n",
        "    producto = sum(vector1[i] * vector2[i] for i in range(n))\n",
        "\n",
        "    print(f\"El producto escalar es: {producto}\")\n",
        "\n",
        "producto_escalar()\n"
      ]
    },
    {
      "cell_type": "code",
      "source": [
        "def ingresar_matriz(filas, columnas):\n",
        "    print(f\"Ingrese los elementos de la matriz de {filas}x{columnas}:\")\n",
        "    matriz = []\n",
        "    for i in range(filas):\n",
        "        fila = [float(input(f\"Elemento [{i+1}, {j+1}]: \")) for j in range(columnas)]\n",
        "        matriz.append(fila)\n",
        "    return matriz\n",
        "\n",
        "def imprimir_matriz(m):\n",
        "    for fila in m:\n",
        "        print(fila)\n",
        "\n",
        "def multiplicar_escalar(matriz, escalar):\n",
        "    return [[escalar * elem for elem in fila] for fila in matriz]\n",
        "\n",
        "def suma_matrices(A, B):\n",
        "    return [[A[i][j] + B[i][j] for j in range(len(A[0]))] for i in range(len(A))]\n",
        "\n",
        "def multiplicar_matrices(A, B):\n",
        "    filas_A, columnas_A = len(A), len(A[0])\n",
        "    filas_B, columnas_B = len(B), len(B[0])\n",
        "\n",
        "    if columnas_A != filas_B:\n",
        "        print(\"No se puede realizar la multiplicación: Dimensiones incompatibles.\")\n",
        "        return None\n",
        "\n",
        "    resultado = [[0] * columnas_B for _ in range(filas_A)]\n",
        "    for i in range(filas_A):\n",
        "        for j in range(columnas_B):\n",
        "            resultado[i][j] = sum(A[i][k] * B[k][j] for k in range(columnas_A))\n",
        "    return resultado\n",
        "\n",
        "def operaciones_matrices():\n",
        "    filas_A = int(input(\"Ingrese el número de filas de A: \"))\n",
        "    columnas_A = int(input(\"Ingrese el número de columnas de A: \"))\n",
        "    A = ingresar_matriz(filas_A, columnas_A)\n",
        "\n",
        "    filas_B = int(input(\"Ingrese el número de filas de B: \"))\n",
        "    columnas_B = int(input(\"Ingrese el número de columnas de B: \"))\n",
        "    B = ingresar_matriz(filas_B, columnas_B)\n",
        "\n",
        "    print(\"\\n3 * A:\")\n",
        "    imprimir_matriz(multiplicar_escalar(A, 3))\n",
        "\n",
        "    print(\"\\n4 * B:\")\n",
        "    imprimir_matriz(multiplicar_escalar(B, 4))\n",
        "\n",
        "    if filas_A == filas_B and columnas_A == columnas_B:\n",
        "        print(\"\\nA + B:\")\n",
        "        imprimir_matriz(suma_matrices(A, B))\n",
        "    else:\n",
        "        print(\"\\nNo se puede realizar A + B: Dimensiones incompatibles.\")\n",
        "\n",
        "    print(\"\\nB x A:\")\n",
        "    resultado = multiplicar_matrices(B, A)\n",
        "    if resultado:\n",
        "        imprimir_matriz(resultado)\n",
        "\n",
        "operaciones_matrices()"
      ],
      "metadata": {
        "colab": {
          "base_uri": "https://localhost:8080/"
        },
        "id": "MUnt5YON8fxm",
        "outputId": "e1603eb1-a569-4699-8f22-55ea7e015a18"
      },
      "execution_count": 5,
      "outputs": [
        {
          "output_type": "stream",
          "name": "stdout",
          "text": [
            "Ingrese el número de filas de A: 3\n",
            "Ingrese el número de columnas de A: 2\n",
            "Ingrese los elementos de la matriz de 3x2:\n",
            "Elemento [1, 1]: 21\n",
            "Elemento [1, 2]: 2\n",
            "Elemento [2, 1]: 32\n",
            "Elemento [2, 2]: 1\n",
            "Elemento [3, 1]: 2\n",
            "Elemento [3, 2]: 4\n",
            "Ingrese el número de filas de B: 3\n",
            "Ingrese el número de columnas de B: 4\n",
            "Ingrese los elementos de la matriz de 3x4:\n",
            "Elemento [1, 1]: 2\n",
            "Elemento [1, 2]: 1\n",
            "Elemento [1, 3]: 4\n",
            "Elemento [1, 4]: 5\n",
            "Elemento [2, 1]: 6\n",
            "Elemento [2, 2]: 1\n",
            "Elemento [2, 3]: 4\n",
            "Elemento [2, 4]: 4\n",
            "Elemento [3, 1]: 5\n",
            "Elemento [3, 2]: 4\n",
            "Elemento [3, 3]: 3\n",
            "Elemento [3, 4]: 1\n",
            "\n",
            "3 * A:\n",
            "[63.0, 6.0]\n",
            "[96.0, 3.0]\n",
            "[6.0, 12.0]\n",
            "\n",
            "4 * B:\n",
            "[8.0, 4.0, 16.0, 20.0]\n",
            "[24.0, 4.0, 16.0, 16.0]\n",
            "[20.0, 16.0, 12.0, 4.0]\n",
            "\n",
            "No se puede realizar A + B: Dimensiones incompatibles.\n",
            "\n",
            "B x A:\n",
            "No se puede realizar la multiplicación: Dimensiones incompatibles.\n"
          ]
        }
      ]
    },
    {
      "cell_type": "code",
      "source": [
        "import numpy as np\n",
        "\n",
        "# Método de Gauss-Jordan para resolver un sistema de ecuaciones\n",
        "def gauss_jordan(A, b):\n",
        "    A = np.array(A, float)\n",
        "    b = np.array(b, float)\n",
        "    n = len(b)\n",
        "\n",
        "    # Formar la matriz aumentada\n",
        "    M = np.hstack((A, b.reshape(-1, 1)))\n",
        "\n",
        "    for i in range(n):\n",
        "        # Pivote\n",
        "        if M[i, i] == 0:\n",
        "            raise ValueError(\"El sistema no tiene solución única.\")\n",
        "\n",
        "        # Normalizar la fila del pivote\n",
        "        M[i] = M[i] / M[i, i]\n",
        "\n",
        "        # Eliminar las demás filas\n",
        "        for j in range(n):\n",
        "            if i != j:\n",
        "                M[j] = M[j] - M[j, i] * M[i]\n",
        "\n",
        "    # Extraer las soluciones\n",
        "    return M[:, -1]\n",
        "\n",
        "def resolver_sistema():\n",
        "    A = [\n",
        "        [1, 0, 1],\n",
        "        [3, 4, 3],\n",
        "        [4, 1, 0]\n",
        "    ]\n",
        "    b = [2.5, 11.5, 15]\n",
        "\n",
        "    soluciones = gauss_jordan(A, b)\n",
        "    print(\"Las soluciones del sistema son:\")\n",
        "    for i, sol in enumerate(soluciones, 1):\n",
        "        print(f\"x{i} = {sol}\")\n",
        "\n",
        "resolver_sistema()\n"
      ],
      "metadata": {
        "colab": {
          "base_uri": "https://localhost:8080/"
        },
        "id": "fZzbATw58lt8",
        "outputId": "eab5f364-19bc-482e-8c17-ed27a54fe37d"
      },
      "execution_count": 7,
      "outputs": [
        {
          "output_type": "stream",
          "name": "stdout",
          "text": [
            "Las soluciones del sistema son:\n",
            "x1 = 3.5\n",
            "x2 = 1.0\n",
            "x3 = -1.0\n"
          ]
        }
      ]
    }
  ]
}